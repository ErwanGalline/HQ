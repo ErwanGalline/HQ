{
 "cells": [
  {
   "cell_type": "code",
   "execution_count": null,
   "metadata": {
    "collapsed": true
   },
   "outputs": [],
   "source": [
    "from matcher import Matcher\n",
    "from geojson_parser import Parser\n",
    "import os\n",
    "\n",
    "DEDUPE_SCRIPT = '/home/erwan/Work/NFQ/HQ/deduper/src/dedupe_geojson.py'\n",
    "\n",
    "FIELD_MAP_1 = '/home/erwan/Work/NFQ/HQ/deduper/resources/fields_mappers/ean_map.json'\n",
    "INPUT_1 = '/home/erwan/Work/NFQ/HQ/deduper/data/Confident.csv'\n",
    "GEOJSON_1 = '/home/erwan/Desktop/hotel_test_set/ean.geojson'\n",
    "\n",
    "FIELD_MAP_2 = '/home/erwan/Work/NFQ/HQ/deduper/resources/fields_mappers/hq_map.json'\n",
    "INPUT_2 = '/home/erwan/Work/NFQ/HQ/deduper/data/hotel_full_invent_june18.csv'\n",
    "GEOJSON_2 = '/home/erwan/Desktop/hotel_test_set/hq.geojson'\n",
    "\n",
    "DEDUPE_OUTPUTS_FOLDER = '/home/erwan/Desktop/hotel_test_set/outputs/'\n",
    "\n",
    "# Source geojson parser\n",
    "ean_parser = Parser(FIELD_MAP_1, INPUT_1, GEOJSON_1, 100, None)\n",
    "ean_geojson = ean_parser.run()\n",
    "\n",
    "# Target geojson parser\n",
    "hq_parser = Parser(FIELD_MAP_2, INPUT_2, GEOJSON_2, None, ean_geojson)\n",
    "hq_parser.run()\n",
    "\n",
    "# Run lieu deduper using above geojson list and '--name-only' option\n",
    "argsStr = GEOJSON_1 + ' ' + GEOJSON_2 + ' -o ' + DEDUPE_OUTPUTS_FOLDER + ' --name-only'\n",
    "cmd_str = ''.join(['python', ' ', DEDUPE_SCRIPT, ' ', argsStr])\n",
    "os.system(cmd_str)\n",
    "\n",
    "# Calculate metrics\n",
    "matcher = Matcher(DEDUPE_OUTPUTS_FOLDER + \"/deduped.geojson\", GEOJSON_1, GEOJSON_2, 0.92, 200)\n",
    "matcher.analyseFeature()\n",
    "\n",
    "\n"
   ]
  }
 ],
 "metadata": {
  "kernelspec": {
   "display_name": "Python 2",
   "language": "python",
   "name": "python2"
  },
  "language_info": {
   "codemirror_mode": {
    "name": "ipython",
    "version": 2
   },
   "file_extension": ".py",
   "mimetype": "text/x-python",
   "name": "python",
   "nbconvert_exporter": "python",
   "pygments_lexer": "ipython2",
   "version": "2.7.6"
  }
 },
 "nbformat": 4,
 "nbformat_minor": 0
}
